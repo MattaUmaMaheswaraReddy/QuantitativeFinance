{
 "cells": [
  {
   "cell_type": "markdown",
   "id": "8e928efe",
   "metadata": {},
   "source": [
    "# Computing pi"
   ]
  },
  {
   "cell_type": "markdown",
   "id": "5b48b209",
   "metadata": {},
   "source": [
    "The idea we consider here is that of a unit circle inside a unit square. The probability of a point lying inside the circle is pi/4. We use that to compute value of pi."
   ]
  },
  {
   "cell_type": "code",
   "execution_count": 43,
   "id": "1e5195d4",
   "metadata": {},
   "outputs": [
    {
     "name": "stdout",
     "output_type": "stream",
     "text": [
      "3.1422752\n"
     ]
    }
   ],
   "source": [
    "from numpy import random\n",
    "import pandas\n",
    "\n",
    "n = 10000000\n",
    "\n",
    "a = 0\n",
    "\n",
    "for i in range(n):\n",
    "    x = random.rand()\n",
    "    y = random.rand()\n",
    "    if (x*x + y*y <= 1): # Area of circle\n",
    "        a = a + 1\n",
    "\n",
    "print (4 * a/n) #Value of pi\n"
   ]
  },
  {
   "cell_type": "code",
   "execution_count": null,
   "id": "67e6d860",
   "metadata": {},
   "outputs": [],
   "source": []
  }
 ],
 "metadata": {
  "kernelspec": {
   "display_name": "Python 3 (ipykernel)",
   "language": "python",
   "name": "python3"
  },
  "language_info": {
   "codemirror_mode": {
    "name": "ipython",
    "version": 3
   },
   "file_extension": ".py",
   "mimetype": "text/x-python",
   "name": "python",
   "nbconvert_exporter": "python",
   "pygments_lexer": "ipython3",
   "version": "3.10.9"
  }
 },
 "nbformat": 4,
 "nbformat_minor": 5
}
