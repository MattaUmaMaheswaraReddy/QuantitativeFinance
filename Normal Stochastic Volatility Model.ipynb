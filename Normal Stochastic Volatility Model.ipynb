{
 "cells": [
  {
   "cell_type": "markdown",
   "metadata": {},
   "source": [
    "# Option Pricing under Normal Dynamics with Stochastic Volatility"
   ]
  },
  {
   "cell_type": "markdown",
   "metadata": {},
   "source": [
    " Link to paper: https://arxiv.org/pdf/1909.08047.pdf"
   ]
  },
  {
   "cell_type": "markdown",
   "metadata": {},
   "source": [
    "Abstract: In this paper, we derive the price of a European call option of an asset following a normal process assuming stochastic volatility. The volatility is assumed to follow the Cox–Ingersoll– Ross (CIR) process. We then use the fast Fourier transform (FFT) to evaluate the option price given we know the characteristic function of the return analytically. We compare the results of fast Fourier transform with the Monte-Carlo simulation results of our process."
   ]
  },
  {
   "cell_type": "markdown",
   "metadata": {},
   "source": [
    "The diffusion equation for the price of an asset at time t:\n",
    "\n",
    " $$ dS(t) = rdt + \\sqrt v(t)dW_1(t) $$ \n",
    "\n",
    "The volatility is assumed to be stochastic following the equation:\n",
    "\n",
    "$$ dv = (a - bv) dt + \\sigma \\sqrt v(t) dW_2(t) $$\n",
    "\n"
   ]
  },
  {
   "cell_type": "markdown",
   "metadata": {},
   "source": [
    "# Monte Carlo Simulation "
   ]
  },
  {
   "cell_type": "code",
   "execution_count": 60,
   "metadata": {},
   "outputs": [],
   "source": [
    "import numpy as np\n",
    "import math\n",
    "import matplotlib.pyplot as plt\n",
    "from scipy.fftpack import fft, ifft"
   ]
  },
  {
   "cell_type": "code",
   "execution_count": 61,
   "metadata": {},
   "outputs": [],
   "source": [
    "#sample data\n",
    "\n",
    "S = -0.001; #spot price\n",
    "K = 0.000; #strike price\n",
    "T = 1; #time of expiry\n",
    "r = 0; #rate (similar to interest rate in Heston Model)\n",
    "v = 0.09; #initial variance\n",
    "theta = 0.0000005;  \n",
    "kappa = 1;\n",
    "sigma = 0.25;\n",
    "rho = -0.9; \n",
    "x = 0;  "
   ]
  },
  {
   "cell_type": "code",
   "execution_count": 62,
   "metadata": {},
   "outputs": [],
   "source": [
    "path = 100000;  #sample paths\n",
    "iterations = 10;   \n",
    "\n",
    "dt = 0.01\n",
    "N = int(T/dt)\n",
    "dt = T/N"
   ]
  },
  {
   "cell_type": "code",
   "execution_count": 63,
   "metadata": {},
   "outputs": [],
   "source": [
    "#Absorption\n",
    "\n",
    "S_A = np.zeros((path,N+1));\n",
    "V_At = np.zeros((path,N+1));\n",
    "V_A = np.zeros((path,N+1));\n",
    "V_At[:,0] = v;\n",
    "V_A[:,0] = v\n",
    "S_A[:,0] = S"
   ]
  },
  {
   "cell_type": "code",
   "execution_count": 64,
   "metadata": {},
   "outputs": [],
   "source": [
    "for i in range (iterations):\n",
    "    \n",
    "    Z1 = np.random.normal(size=(path,N))\n",
    "    dW1 = np.sqrt(dt)*(Z1);\n",
    "    Z2 = np.random.normal(size=(path,N))\n",
    "    dW2 = rho*dW1+np.sqrt(1-rho**2)*Z2*np.sqrt(dt);\n",
    "    \n",
    "    for j in range(N):\n",
    "        V_At[:,j+1] = V_At[:,j] + kappa*(theta - V_At[:,j])*dt + sigma*np.sqrt(np.maximum(V_At[:,j],0))*dW1[:,j];\n",
    "        V_A[:,j+1] = np.maximum(V_At[:,j+1],0);\n",
    "        S_A[:,j+1] = ((S_A[:,j])+ (r)*dt+ np.sqrt(V_A[:,j])*dW2[:,j]);\n",
    "        payoff_fun = lambda x: np.maximum(x-K,0)\n",
    "        payoff = payoff_fun(S_A[:, int(T*N)])\n",
    "        C_A = (np.exp(-r*T)*(payoff))"
   ]
  },
  {
   "cell_type": "code",
   "execution_count": 65,
   "metadata": {},
   "outputs": [
    {
     "name": "stdout",
     "output_type": "stream",
     "text": [
      "0.09190546834879283\n"
     ]
    }
   ],
   "source": [
    "payoff = np.fmax(S_A[:,-1]-K, 0)\n",
    "mc_pricing = np.exp(-r*T) * np.mean(payoff)\n",
    "print (mc_pricing)"
   ]
  },
  {
   "cell_type": "markdown",
   "metadata": {},
   "source": [
    "# Fast Fourier Transform"
   ]
  },
  {
   "cell_type": "code",
   "execution_count": 66,
   "metadata": {},
   "outputs": [],
   "source": [
    "def chf_st(phi, t, r, q, S0, V0, theta, kappa, sigma, rho):\n",
    "        d = np.sqrt((sigma ** 2) * (phi ** 2) + (kappa - 1j * rho * sigma * phi) ** 2)\n",
    "        beta = kappa - 1j * phi * rho * sigma\n",
    "        g = (beta - d) / (beta + d)\n",
    "        D_t = (beta - d) / (sigma ** 2) * ((1 - np.exp(-d * t)) / (1 - g * np.exp(-d * t)))\n",
    "        C_t = -1j * phi * (r - q) * t + kappa * theta / (sigma ** 2) * (\n",
    "            (beta - d) * t - 2 * np.log((1 - g * np.exp(-d * t)) / (1 - g)))\n",
    "        return np.exp(C_t + D_t * V0 + 1j * phi * S0)"
   ]
  },
  {
   "cell_type": "code",
   "execution_count": 67,
   "metadata": {},
   "outputs": [
    {
     "name": "stdout",
     "output_type": "stream",
     "text": [
      "0.0916280726285714\n"
     ]
    }
   ],
   "source": [
    "def carr_madan_fft_call_pricer(N, eta, alpha, k_u, r, t, S0, V0, theta, kappa, sigma, rho, q, chf_st):\n",
    "\n",
    "    def chf_st(phi, t, r, q, S0, V0, theta, kappa, sigma, rho):\n",
    "        d = np.sqrt((sigma ** 2) * (phi ** 2) + (kappa - 1j * rho * sigma * phi) ** 2)\n",
    "        beta = kappa - 1j * phi * rho * sigma\n",
    "        g = (beta - d) / (beta + d)\n",
    "        D_t = (beta - d) / (sigma ** 2) * ((1 - np.exp(-d * t)) / (1 - g * np.exp(-d * t)))\n",
    "        C_t = -1j * phi * (r - q) * t + kappa * theta / (sigma ** 2) * (\n",
    "            (beta - d) * t - 2 * np.log((1 - g * np.exp(-d * t)) / (1 - g)))\n",
    "        return np.exp(C_t + D_t * V0 + 1j * phi * S0)\n",
    "    \n",
    "\n",
    "    lmda = 2 * np.pi / (N * eta)\n",
    "    b = k_u - lmda * N / 2\n",
    "    u_arr = np.arange(N) * eta\n",
    "    \n",
    "    \n",
    "    k_arr = b + np.arange(N) * lmda\n",
    "    delta_arr = np.zeros(N)\n",
    "    delta_arr[0] = 1\n",
    "    w_arr = (eta / 3) * (3 + (-1) ** (np.arange(N) + 1) - delta_arr)\n",
    "    call_chf = (np.exp(-r * t) / ((alpha + 1j * u_arr) * (alpha + 1j * u_arr))) * (chf_st(u_arr - (alpha) * 1j,\n",
    "                t, r, q, S0, V0, theta, kappa, sigma, rho))\n",
    "    x_arr = np.exp(-1j * b * u_arr) * call_chf * w_arr\n",
    "    \n",
    "    fft_prices = (fft(x_arr))\n",
    "    call_prices = (np.exp(-alpha * k_arr) / np.pi) * fft_prices.real\n",
    "    \n",
    "    \n",
    "    u_w = ((k_u - b)* N * eta/(2*np.pi))+1\n",
    "    x = int(round(u_w))\n",
    "    \n",
    "    return (call_prices[x])   \n",
    "\n",
    "fft_pricing = carr_madan_fft_call_pricer(120000, 1, 30, 0.0005, 0, 1, -0.001, 0.09, 0.0000005, 1, 0.25, -0.9, 0,\n",
    "                                  (chf_st(1, 1, 0, 0, -0.001, 0.09, 0.0000005, 1, 0.25, -0.9)) )\n",
    "\n",
    "print (fft_pricing)"
   ]
  },
  {
   "cell_type": "code",
   "execution_count": 68,
   "metadata": {},
   "outputs": [
    {
     "name": "stdout",
     "output_type": "stream",
     "text": [
      "The difference between MC and FFT: 0.00027739572022143777\n"
     ]
    }
   ],
   "source": [
    "print(\"The difference between MC and FFT:\", mc_pricing - fft_pricing)"
   ]
  }
 ],
 "metadata": {
  "kernelspec": {
   "display_name": "Python 3 (ipykernel)",
   "language": "python",
   "name": "python3"
  },
  "language_info": {
   "codemirror_mode": {
    "name": "ipython",
    "version": 3
   },
   "file_extension": ".py",
   "mimetype": "text/x-python",
   "name": "python",
   "nbconvert_exporter": "python",
   "pygments_lexer": "ipython3",
   "version": "3.10.9"
  }
 },
 "nbformat": 4,
 "nbformat_minor": 2
}
